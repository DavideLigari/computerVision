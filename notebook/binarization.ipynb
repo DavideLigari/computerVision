{
 "cells": [
  {
   "cell_type": "markdown",
   "metadata": {},
   "source": [
    "## Binarization Algorithm\n",
    "\n",
    "#### This is an image binarization algorithm that uses the Otsu's method to find the optimal threshold value for the binarization of the image.\n",
    "---"
   ]
  },
  {
   "cell_type": "code",
   "execution_count": 27,
   "metadata": {},
   "outputs": [],
   "source": [
    "import cv2 as cv\n",
    "import numpy as np\n",
    "import matplotlib.pyplot as plt\n",
    "import scipy.stats as stats\n",
    "import os"
   ]
  },
  {
   "cell_type": "code",
   "execution_count": 28,
   "metadata": {},
   "outputs": [],
   "source": [
    "# Loss function\n",
    "def get_loss(num, bin, thresh, tuning_method, under_tuning, over_tuning):\n",
    "    bin = bin[:-1]\n",
    "\n",
    "    # distance if the pixel is under the threshold\n",
    "    dist_under_thresh = bin[:thresh]\n",
    "    # distance if the pixel is over the threshold\n",
    "    dist_over_thresh = 255 - bin[thresh:]\n",
    "\n",
    "    # Tune according to 'skewness' and value inserted by the user\n",
    "    if tuning_method == \"Auto\":\n",
    "        weighted = bin * num\n",
    "        m = np.sum(weighted) / np.sum(num)\n",
    "        tuning = np.abs(m - 127)\n",
    "\n",
    "        if m > (255 / 2 + 20):\n",
    "            tuned_dist_under_thresh = dist_under_thresh\n",
    "            tuned_dist_over_thresh = dist_over_thresh + tuning\n",
    "        elif m < (255 / 2 - 20):\n",
    "            tuned_dist_under_thresh = dist_under_thresh + tuning\n",
    "            tuned_dist_over_thresh = dist_over_thresh\n",
    "        else:\n",
    "            tuned_dist_under_thresh = dist_under_thresh\n",
    "            tuned_dist_over_thresh = dist_over_thresh\n",
    "\n",
    "    else:\n",
    "        tuned_dist_under_thresh = dist_under_thresh + under_tuning\n",
    "        tuned_dist_over_thresh = dist_over_thresh + over_tuning\n",
    "\n",
    "    # concatenate the two parts\n",
    "    dist_mat = np.concatenate((tuned_dist_under_thresh, tuned_dist_over_thresh))\n",
    "    loss = np.sum(num * dist_mat)  # Loss function\n",
    "    return loss\n",
    "\n",
    "\n",
    "def get_best_thresh(\n",
    "    num, bin, tuning_method=\"Auto\", under_tuning=None, over_tuning=None, show_loss=False\n",
    "):\n",
    "    loss_list = []\n",
    "\n",
    "    if tuning_method == \"Manual\":\n",
    "        if under_tuning is None or over_tuning is None:\n",
    "            print(\"Please insert values for tuning\")\n",
    "            return\n",
    "    else:\n",
    "        weighted = bin[:-1] * num\n",
    "        m = np.sum(weighted) / np.sum(num)\n",
    "        print(\"Tuning parameter (127 - mean): \", np.abs(m - 127))\n",
    "\n",
    "    for i in range(1, 255):\n",
    "        loss = get_loss(num, bin, i, tuning_method, under_tuning, over_tuning)\n",
    "        loss_list.append(loss)\n",
    "    min_loss = np.min(loss_list)\n",
    "    best_thresh = np.argmin(loss_list)\n",
    "    if show_loss:\n",
    "        plt.figure()\n",
    "        plt.plot(loss_list)\n",
    "        plt.title(\"Loss function\")\n",
    "\n",
    "    return best_thresh, min_loss, loss_list\n",
    "\n",
    "\n",
    "def apply_thresh(img_gray, thresh, show_img=False):\n",
    "    img_bin = img_gray > thresh  # Mask\n",
    "    if show_img:\n",
    "        plt.figure()\n",
    "        plt.imshow(img_bin, cmap=\"gray\")\n",
    "        plt.title(\"Binarized\"), plt.xticks([]), plt.yticks([])\n",
    "    return img_bin"
   ]
  },
  {
   "cell_type": "code",
   "execution_count": 29,
   "metadata": {},
   "outputs": [
    {
     "name": "stdout",
     "output_type": "stream",
     "text": [
      "Please insert values for tuning\n"
     ]
    },
    {
     "ename": "TypeError",
     "evalue": "cannot unpack non-iterable NoneType object",
     "output_type": "error",
     "traceback": [
      "\u001b[0;31m---------------------------------------------------------------------------\u001b[0m",
      "\u001b[0;31mTypeError\u001b[0m                                 Traceback (most recent call last)",
      "\u001b[1;32m/Users/andreaalberti/Desktop/Public_Projects/Computer-Vision-Project/binarization.ipynb Cella 4\u001b[0m line \u001b[0;36m1\n\u001b[1;32m      <a href='vscode-notebook-cell:/Users/andreaalberti/Desktop/Public_Projects/Computer-Vision-Project/binarization.ipynb#W3sZmlsZQ%3D%3D?line=7'>8</a>\u001b[0m num, \u001b[39mbin\u001b[39m\u001b[39m=\u001b[39m np\u001b[39m.\u001b[39mhistogram(img_gray\u001b[39m.\u001b[39mravel(), \u001b[39m256\u001b[39m, [\u001b[39m0\u001b[39m, \u001b[39m256\u001b[39m])\n\u001b[1;32m     <a href='vscode-notebook-cell:/Users/andreaalberti/Desktop/Public_Projects/Computer-Vision-Project/binarization.ipynb#W3sZmlsZQ%3D%3D?line=9'>10</a>\u001b[0m \u001b[39m# Get and apply the best threshold\u001b[39;00m\n\u001b[0;32m---> <a href='vscode-notebook-cell:/Users/andreaalberti/Desktop/Public_Projects/Computer-Vision-Project/binarization.ipynb#W3sZmlsZQ%3D%3D?line=10'>11</a>\u001b[0m best_thresh, min_loss, losses \u001b[39m=\u001b[39m get_best_thresh(num, \u001b[39mbin\u001b[39m, tuning_method \u001b[39m=\u001b[39m \u001b[39m'\u001b[39m\u001b[39mManual\u001b[39m\u001b[39m'\u001b[39m, over_tuning\u001b[39m=\u001b[39m\u001b[39m20\u001b[39m, show_loss\u001b[39m=\u001b[39m\u001b[39mTrue\u001b[39;00m)\n\u001b[1;32m     <a href='vscode-notebook-cell:/Users/andreaalberti/Desktop/Public_Projects/Computer-Vision-Project/binarization.ipynb#W3sZmlsZQ%3D%3D?line=11'>12</a>\u001b[0m img_bin \u001b[39m=\u001b[39m apply_thresh(img_gray, best_thresh, show_img \u001b[39m=\u001b[39m \u001b[39mTrue\u001b[39;00m)\n\u001b[1;32m     <a href='vscode-notebook-cell:/Users/andreaalberti/Desktop/Public_Projects/Computer-Vision-Project/binarization.ipynb#W3sZmlsZQ%3D%3D?line=13'>14</a>\u001b[0m \u001b[39mprint\u001b[39m(\u001b[39m'\u001b[39m\u001b[39mThe best threshold is: \u001b[39m\u001b[39m'\u001b[39m, best_thresh)\n",
      "\u001b[0;31mTypeError\u001b[0m: cannot unpack non-iterable NoneType object"
     ]
    }
   ],
   "source": [
    "# Load image\n",
    "img = cv.imread(\"../Images/5img.jpeg\", cv.IMREAD_COLOR)\n",
    "\n",
    "# Convert to grayscale\n",
    "img_gray = cv.cvtColor(img, cv.COLOR_BGR2GRAY)\n",
    "\n",
    "# Compute the histogram\n",
    "num, bin = np.histogram(img_gray.ravel(), 256, [0, 256])\n",
    "\n",
    "# Get and apply the best threshold\n",
    "best_thresh, min_loss, losses = get_best_thresh(\n",
    "    num, bin, tuning_method=\"Manual\", over_tuning=20, under_tuning=10, show_loss=True\n",
    ")\n",
    "img_bin = apply_thresh(img_gray, best_thresh, show_img=True)\n",
    "\n",
    "print(\"The best threshold is: \", best_thresh)\n",
    "print(\"The minimum loss is: \", min_loss)\n",
    "\n",
    "# Binarization with Otsu's method\n",
    "img_otsu = cv.threshold(img_gray, 0, 255, cv.THRESH_OTSU)[1]\n",
    "\n",
    "# Show the results\n",
    "# Histogram and Loss\n",
    "fig, axs = plt.subplots(1, 2, figsize=(10, 5))\n",
    "axs[0].set_title(\"Histogram\")\n",
    "axs[0].plot(num)\n",
    "axs[1].set_title(\"Loss function\")\n",
    "axs[1].plot(losses)\n",
    "fig.text(0.5, 0.01, \"Pixel values\", ha=\"center\", fontsize=12)\n",
    "\n",
    "# Images comparison\n",
    "fig, axs = plt.subplots(1, 3, figsize=(15, 10))\n",
    "\n",
    "# Plot the original image in the first subplot\n",
    "axs[0].imshow(cv.cvtColor(img, cv.COLOR_BGR2RGB))\n",
    "axs[0].set_title(\"Original\")\n",
    "axs[0].set_xticks([]), axs[0].set_yticks([])\n",
    "\n",
    "# Plot the binarized image in the second subplot\n",
    "axs[1].imshow(img_bin, cmap=\"gray\")\n",
    "axs[1].set_title(\"Binarized\")\n",
    "axs[1].set_xticks([]), axs[1].set_yticks([])\n",
    "\n",
    "# Plot the Otsu image in the third subplot\n",
    "axs[2].imshow(img_otsu, cmap=\"gray\")\n",
    "axs[2].set_title(\"Otsu\")\n",
    "axs[2].set_xticks([]), axs[2].set_yticks([])\n",
    "\n",
    "# Show the plots\n",
    "plt.show()"
   ]
  },
  {
   "cell_type": "code",
   "execution_count": null,
   "metadata": {},
   "outputs": [
    {
     "name": "stdout",
     "output_type": "stream",
     "text": [
      "Warning: The file Images/carplates_binarized.jpeg already exists. Skipping save operation.\n"
     ]
    }
   ],
   "source": [
    "# Save the binarized image\n",
    "# Check if the file already exists\n",
    "if os.path.exists(\"../Images/carplates_binarized.jpeg\"):\n",
    "    print(\n",
    "        f\"Warning: The file {'Images/carplates_binarized.jpeg'} already exists. Skipping save operation.\"\n",
    "    )\n",
    "else:\n",
    "    # Convert it to 0 and 255\n",
    "    img_bin = (img_bin * 255).astype(np.uint8)\n",
    "\n",
    "    # Save the binary image as a JPEG file\n",
    "    cv.imwrite(\"Images/carplates_binarized.jpeg\", img_bin)"
   ]
  }
 ],
 "metadata": {
  "kernelspec": {
   "display_name": "base",
   "language": "python",
   "name": "python3"
  },
  "language_info": {
   "codemirror_mode": {
    "name": "ipython",
    "version": 3
   },
   "file_extension": ".py",
   "mimetype": "text/x-python",
   "name": "python",
   "nbconvert_exporter": "python",
   "pygments_lexer": "ipython3",
   "version": "3.10.12"
  }
 },
 "nbformat": 4,
 "nbformat_minor": 2
}
